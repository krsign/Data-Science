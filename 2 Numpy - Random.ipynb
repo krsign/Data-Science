{
 "cells": [
  {
   "cell_type": "code",
   "execution_count": 1,
   "id": "a2dbeb8f",
   "metadata": {},
   "outputs": [],
   "source": [
    "from numpy import random"
   ]
  },
  {
   "cell_type": "code",
   "execution_count": 2,
   "id": "396ae6cb",
   "metadata": {},
   "outputs": [],
   "source": [
    "x = random.randint(100)"
   ]
  },
  {
   "cell_type": "code",
   "execution_count": 3,
   "id": "18a56c19",
   "metadata": {},
   "outputs": [
    {
     "data": {
      "text/plain": [
       "47"
      ]
     },
     "execution_count": 3,
     "metadata": {},
     "output_type": "execute_result"
    }
   ],
   "source": [
    "x"
   ]
  },
  {
   "cell_type": "markdown",
   "id": "69551e3d",
   "metadata": {},
   "source": [
    "Generate Random Float\n",
    "The random module's rand() method returns a random float between 0 and 1."
   ]
  },
  {
   "cell_type": "code",
   "execution_count": 4,
   "id": "2633de24",
   "metadata": {},
   "outputs": [],
   "source": [
    "x = random.rand()"
   ]
  },
  {
   "cell_type": "code",
   "execution_count": 5,
   "id": "4cd2b891",
   "metadata": {},
   "outputs": [
    {
     "data": {
      "text/plain": [
       "0.5428482763561326"
      ]
     },
     "execution_count": 5,
     "metadata": {},
     "output_type": "execute_result"
    }
   ],
   "source": [
    "x"
   ]
  },
  {
   "cell_type": "markdown",
   "id": "a02e9a2c",
   "metadata": {},
   "source": [
    "### Generate Random Array\n",
    "In NumPy we work with arrays, and you can use the two methods from the above examples to make random arrays.\n",
    "\n",
    "Integers\n",
    "The #randint() method takes a #size parameter where you can specify the shape of an array.\n",
    "\n"
   ]
  },
  {
   "cell_type": "code",
   "execution_count": 8,
   "id": "2afc1d5e",
   "metadata": {},
   "outputs": [],
   "source": [
    "# Generate a 1-D array containing 5 random integers from 0 to 100:\n",
    "\n",
    "\n",
    "x = random.randint(100, size=5)"
   ]
  },
  {
   "cell_type": "code",
   "execution_count": 9,
   "id": "da797725",
   "metadata": {},
   "outputs": [
    {
     "data": {
      "text/plain": [
       "array([38,  2, 46, 29, 11])"
      ]
     },
     "execution_count": 9,
     "metadata": {},
     "output_type": "execute_result"
    }
   ],
   "source": [
    "x"
   ]
  },
  {
   "cell_type": "code",
   "execution_count": 12,
   "id": "a9a1562b",
   "metadata": {},
   "outputs": [],
   "source": [
    "# Generate a 2-D array with 3 rows, each row containing 5 random integers from 0 to 100:\n",
    "\n",
    "x = random.randint(100, size = (3,5))"
   ]
  },
  {
   "cell_type": "code",
   "execution_count": 13,
   "id": "0bb9b430",
   "metadata": {},
   "outputs": [
    {
     "data": {
      "text/plain": [
       "array([[ 3, 53, 37, 81,  7],\n",
       "       [19, 78, 66, 49, 52],\n",
       "       [29, 63, 90, 27,  5]])"
      ]
     },
     "execution_count": 13,
     "metadata": {},
     "output_type": "execute_result"
    }
   ],
   "source": [
    "x"
   ]
  },
  {
   "cell_type": "code",
   "execution_count": 14,
   "id": "b162e00d",
   "metadata": {},
   "outputs": [],
   "source": [
    "# The rand() method also allows you to specify the shape of the array."
   ]
  },
  {
   "cell_type": "code",
   "execution_count": 15,
   "id": "b6fc4dab",
   "metadata": {},
   "outputs": [],
   "source": [
    "x = random.rand(5)"
   ]
  },
  {
   "cell_type": "code",
   "execution_count": 16,
   "id": "f2d181bf",
   "metadata": {},
   "outputs": [
    {
     "data": {
      "text/plain": [
       "array([0.80016939, 0.23952482, 0.10635815, 0.9398011 , 0.39579864])"
      ]
     },
     "execution_count": 16,
     "metadata": {},
     "output_type": "execute_result"
    }
   ],
   "source": [
    "x"
   ]
  },
  {
   "cell_type": "code",
   "execution_count": 17,
   "id": "f43c02c8",
   "metadata": {},
   "outputs": [],
   "source": [
    "# Generate a 2-D array with 3 rows, each row containing 5 random numbers:\n",
    "\n",
    "x = random.rand(5,4)"
   ]
  },
  {
   "cell_type": "code",
   "execution_count": 18,
   "id": "fa857a8a",
   "metadata": {},
   "outputs": [
    {
     "data": {
      "text/plain": [
       "array([[0.63011696, 0.19525758, 0.46841623, 0.00305626],\n",
       "       [0.083097  , 0.24431843, 0.32927692, 0.67015068],\n",
       "       [0.9522202 , 0.00374228, 0.33423405, 0.16819105],\n",
       "       [0.30746857, 0.3954617 , 0.44706764, 0.07408748],\n",
       "       [0.28050714, 0.75999648, 0.25503136, 0.91881917]])"
      ]
     },
     "execution_count": 18,
     "metadata": {},
     "output_type": "execute_result"
    }
   ],
   "source": [
    "x"
   ]
  },
  {
   "cell_type": "markdown",
   "id": "b5b8f664",
   "metadata": {},
   "source": [
    "### Generate Random Number From Array\n",
    "The choice() method allows you to generate a random value based on an array of values.\n",
    "\n",
    "The choice() method takes an array as a parameter and randomly returns one of the values."
   ]
  },
  {
   "cell_type": "code",
   "execution_count": 19,
   "id": "85b44c54",
   "metadata": {},
   "outputs": [],
   "source": [
    "x = random.choice([1,2,3,4,5])"
   ]
  },
  {
   "cell_type": "code",
   "execution_count": 20,
   "id": "0cf634e4",
   "metadata": {},
   "outputs": [
    {
     "data": {
      "text/plain": [
       "2"
      ]
     },
     "execution_count": 20,
     "metadata": {},
     "output_type": "execute_result"
    }
   ],
   "source": [
    "x"
   ]
  },
  {
   "cell_type": "markdown",
   "id": "24066e52",
   "metadata": {},
   "source": [
    "### The choice() method also allows you to return an array of values.\n",
    "\n",
    "Add a size parameter to specify the shape of the array.\n",
    "\n"
   ]
  },
  {
   "cell_type": "code",
   "execution_count": 21,
   "id": "e7b3995e",
   "metadata": {},
   "outputs": [],
   "source": [
    "x = random.choice([1,2,3,4],size=(3,5))"
   ]
  },
  {
   "cell_type": "code",
   "execution_count": 22,
   "id": "4503bf80",
   "metadata": {},
   "outputs": [
    {
     "data": {
      "text/plain": [
       "array([[4, 2, 2, 1, 3],\n",
       "       [1, 4, 3, 2, 3],\n",
       "       [4, 2, 4, 3, 4]])"
      ]
     },
     "execution_count": 22,
     "metadata": {},
     "output_type": "execute_result"
    }
   ],
   "source": [
    "x"
   ]
  },
  {
   "cell_type": "markdown",
   "id": "649234b1",
   "metadata": {},
   "source": [
    "# What is Data Distribution?\n",
    "Data Distribution is a list of all possible values, and how often each value occurs.\n",
    "\n",
    "Such lists are important when working with statistics and data science.\n",
    "\n",
    "The random module offer methods that returns randomly generated data distributions.\n",
    "\n"
   ]
  },
  {
   "cell_type": "markdown",
   "id": "92db5588",
   "metadata": {},
   "source": [
    "## Random Distribution\n",
    "\n",
    "### A random distribution is a set of random numbers that follow a certain probability density function.\n",
    "\n",
    "\n",
    "\n",
    "#### Probability Density Function: A function that describes a continuous probability. i.e. probability of all values in an array."
   ]
  },
  {
   "cell_type": "markdown",
   "id": "8624c1fa",
   "metadata": {},
   "source": [
    "# Example\n",
    "\n",
    "Generate a 1-D array containing 100 values, where each value has to be 3, 5, 7 or 9.\n",
    "\n",
    "The probability for the value to be 3 is set to be 0.1\n",
    "\n",
    "The probability for the value to be 5 is set to be 0.3\n",
    "\n",
    "The probability for the value to be 7 is set to be 0.6\n",
    "\n",
    "The probability for the value to be 9 is set to be 0"
   ]
  },
  {
   "cell_type": "code",
   "execution_count": 23,
   "id": "9ee677ea",
   "metadata": {},
   "outputs": [],
   "source": [
    "x = random.choice([3,5,7,9], p=[0.1, 0.3, 0.6, 0.0], size=100)"
   ]
  },
  {
   "cell_type": "code",
   "execution_count": 24,
   "id": "473f99eb",
   "metadata": {},
   "outputs": [
    {
     "data": {
      "text/plain": [
       "array([7, 7, 3, 7, 7, 7, 5, 7, 7, 7, 7, 7, 5, 7, 7, 7, 7, 7, 7, 5, 5, 7,\n",
       "       7, 5, 5, 7, 7, 5, 7, 7, 5, 7, 5, 7, 5, 7, 7, 5, 3, 5, 7, 7, 5, 7,\n",
       "       7, 7, 7, 3, 7, 5, 7, 7, 7, 7, 5, 7, 3, 5, 7, 5, 5, 3, 7, 5, 7, 3,\n",
       "       7, 7, 7, 5, 5, 5, 7, 5, 7, 7, 5, 5, 7, 3, 7, 7, 7, 5, 3, 5, 7, 7,\n",
       "       7, 7, 7, 7, 7, 5, 3, 7, 7, 7, 3, 5])"
      ]
     },
     "execution_count": 24,
     "metadata": {},
     "output_type": "execute_result"
    }
   ],
   "source": [
    "x"
   ]
  },
  {
   "cell_type": "markdown",
   "id": "8fcceabe",
   "metadata": {},
   "source": [
    "# Random Permutations of Elements\n",
    "\n",
    "A permutation refers to an arrangement of elements. e.g. [3, 2, 1] is a permutation of [1, 2, 3] and vice-versa.\n",
    "\n",
    "The NumPy Random module provides two methods for this: shuffle() and permutation().\n"
   ]
  },
  {
   "cell_type": "markdown",
   "id": "6c966791",
   "metadata": {},
   "source": [
    "### Shuffling Arrays\n",
    "Shuffle means changing arrangement of elements in-place. i.e. in the array itself."
   ]
  },
  {
   "cell_type": "code",
   "execution_count": 25,
   "id": "51a50bca",
   "metadata": {},
   "outputs": [],
   "source": [
    "from numpy import random\n",
    "\n",
    "import numpy as np"
   ]
  },
  {
   "cell_type": "code",
   "execution_count": 26,
   "id": "4a6bc40f",
   "metadata": {},
   "outputs": [],
   "source": [
    "arr = np.array([1,2,3,4,5])"
   ]
  },
  {
   "cell_type": "code",
   "execution_count": 29,
   "id": "87e328c2",
   "metadata": {},
   "outputs": [],
   "source": [
    "random.shuffle(arr)\n",
    "\n",
    "# The shuffle() method makes changes to the original array."
   ]
  },
  {
   "cell_type": "code",
   "execution_count": 30,
   "id": "1cd64f71",
   "metadata": {},
   "outputs": [
    {
     "data": {
      "text/plain": [
       "array([3, 2, 5, 1, 4])"
      ]
     },
     "execution_count": 30,
     "metadata": {},
     "output_type": "execute_result"
    }
   ],
   "source": [
    "arr"
   ]
  },
  {
   "cell_type": "markdown",
   "id": "d7420703",
   "metadata": {},
   "source": [
    "### Generating Permutation of Arrays"
   ]
  },
  {
   "cell_type": "code",
   "execution_count": 31,
   "id": "66d8daa9",
   "metadata": {},
   "outputs": [],
   "source": [
    "from numpy import random\n",
    "import numpy as np"
   ]
  },
  {
   "cell_type": "code",
   "execution_count": 32,
   "id": "ebe48103",
   "metadata": {},
   "outputs": [],
   "source": [
    "arr = np.array([1,2,3,4,5])"
   ]
  },
  {
   "cell_type": "code",
   "execution_count": 35,
   "id": "c5229088",
   "metadata": {},
   "outputs": [
    {
     "data": {
      "text/plain": [
       "array([1, 3, 5, 2, 4])"
      ]
     },
     "execution_count": 35,
     "metadata": {},
     "output_type": "execute_result"
    }
   ],
   "source": [
    "random.permutation(arr)\n",
    "\n",
    "#The permutation() method returns a re-arranged array (and leaves the original array un-changed)."
   ]
  },
  {
   "cell_type": "code",
   "execution_count": null,
   "id": "9ece0a40",
   "metadata": {},
   "outputs": [],
   "source": []
  },
  {
   "cell_type": "code",
   "execution_count": null,
   "id": "5ff6f221",
   "metadata": {},
   "outputs": [],
   "source": []
  }
 ],
 "metadata": {
  "kernelspec": {
   "display_name": "Python 3 (ipykernel)",
   "language": "python",
   "name": "python3"
  },
  "language_info": {
   "codemirror_mode": {
    "name": "ipython",
    "version": 3
   },
   "file_extension": ".py",
   "mimetype": "text/x-python",
   "name": "python",
   "nbconvert_exporter": "python",
   "pygments_lexer": "ipython3",
   "version": "3.9.13"
  }
 },
 "nbformat": 4,
 "nbformat_minor": 5
}
