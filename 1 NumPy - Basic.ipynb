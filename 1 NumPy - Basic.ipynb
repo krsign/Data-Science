{
 "cells": [
  {
   "cell_type": "markdown",
   "id": "a4280f63",
   "metadata": {},
   "source": [
    "## NumPy"
   ]
  },
  {
   "cell_type": "code",
   "execution_count": 1,
   "id": "915b9c72",
   "metadata": {},
   "outputs": [],
   "source": [
    "import numpy as np"
   ]
  },
  {
   "cell_type": "code",
   "execution_count": 2,
   "id": "19fa0844",
   "metadata": {},
   "outputs": [],
   "source": [
    "arr = np.array([1,2,3,4,5])"
   ]
  },
  {
   "cell_type": "code",
   "execution_count": 3,
   "id": "0e9af979",
   "metadata": {},
   "outputs": [
    {
     "name": "stdout",
     "output_type": "stream",
     "text": [
      "[1 2 3 4 5]\n"
     ]
    }
   ],
   "source": [
    "print(arr)"
   ]
  },
  {
   "cell_type": "code",
   "execution_count": 4,
   "id": "6c7223cf",
   "metadata": {},
   "outputs": [
    {
     "data": {
      "text/plain": [
       "'1.21.5'"
      ]
     },
     "execution_count": 4,
     "metadata": {},
     "output_type": "execute_result"
    }
   ],
   "source": [
    "# checking numpy version\n",
    "\n",
    "np.__version__"
   ]
  },
  {
   "cell_type": "code",
   "execution_count": 5,
   "id": "f7467478",
   "metadata": {},
   "outputs": [
    {
     "data": {
      "text/plain": [
       "numpy.ndarray"
      ]
     },
     "execution_count": 5,
     "metadata": {},
     "output_type": "execute_result"
    }
   ],
   "source": [
    "# ndarray\n",
    "\n",
    "arr1 = np.array([1,2,3,4,5])\n",
    "\n",
    "type(arr1)"
   ]
  },
  {
   "cell_type": "code",
   "execution_count": 6,
   "id": "15026e6d",
   "metadata": {},
   "outputs": [
    {
     "name": "stdout",
     "output_type": "stream",
     "text": [
      "[1 2 3 4 5]\n"
     ]
    }
   ],
   "source": [
    "# using tuple to create numpy\n",
    "\n",
    "tuple_arr = np.array((1,2,3,4,5))\n",
    "\n",
    "print(tuple_arr)"
   ]
  },
  {
   "cell_type": "markdown",
   "id": "c7e9485d",
   "metadata": {},
   "source": [
    "# Dimentions in array"
   ]
  },
  {
   "cell_type": "markdown",
   "id": "b3850f31",
   "metadata": {},
   "source": [
    "### 0-D "
   ]
  },
  {
   "cell_type": "code",
   "execution_count": 7,
   "id": "e354600b",
   "metadata": {},
   "outputs": [
    {
     "name": "stdout",
     "output_type": "stream",
     "text": [
      "1\n",
      "0\n"
     ]
    }
   ],
   "source": [
    "zero_d_arr = np.array(1)\n",
    "\n",
    "# each value in array is called zero d arr\n",
    "\n",
    "print(zero_d_arr)\n",
    "\n",
    "# checking dimention\n",
    "\n",
    "print(zero_d_arr.ndim)"
   ]
  },
  {
   "cell_type": "markdown",
   "id": "859d6c7f",
   "metadata": {},
   "source": [
    "### 1-D"
   ]
  },
  {
   "cell_type": "code",
   "execution_count": 8,
   "id": "838449cb",
   "metadata": {},
   "outputs": [
    {
     "name": "stdout",
     "output_type": "stream",
     "text": [
      "[1 2 3 4 5]\n",
      "1\n"
     ]
    }
   ],
   "source": [
    "one_d_arr = np.array([1,2,3,4,5])\n",
    "\n",
    "print(one_d_arr)\n",
    "\n",
    "# checking dimention\n",
    "\n",
    "print(one_d_arr.ndim)"
   ]
  },
  {
   "cell_type": "markdown",
   "id": "25480d8c",
   "metadata": {},
   "source": [
    "### 2-D "
   ]
  },
  {
   "cell_type": "code",
   "execution_count": 9,
   "id": "b6c9e6f0",
   "metadata": {},
   "outputs": [
    {
     "name": "stdout",
     "output_type": "stream",
     "text": [
      "[[1 2 3]\n",
      " [4 5 6]\n",
      " [7 8 9]]\n",
      "2\n"
     ]
    }
   ],
   "source": [
    "two_d_arr = np.array([[1,2,3],[4,5,6],[7,8,9]])\n",
    "\n",
    "print(two_d_arr)\n",
    "\n",
    "# checking dimention\n",
    "\n",
    "print(two_d_arr.ndim)"
   ]
  },
  {
   "cell_type": "markdown",
   "id": "48e840e9",
   "metadata": {},
   "source": [
    "### 3-D "
   ]
  },
  {
   "cell_type": "code",
   "execution_count": 10,
   "id": "2ddfa113",
   "metadata": {},
   "outputs": [
    {
     "name": "stdout",
     "output_type": "stream",
     "text": [
      "[[[ 1  2  3]\n",
      "  [ 4  5  6]\n",
      "  [ 7  8  9]]\n",
      "\n",
      " [[10 11 12]\n",
      "  [13 14 15]\n",
      "  [16 17 18]]]\n",
      "3\n"
     ]
    }
   ],
   "source": [
    "three_d_arr = np.array([[[1,2,3],[4,5,6],[7,8,9]],\n",
    "                        [[10,11,12],[13,14,15],[16,17,18]]])\n",
    "\n",
    "print(three_d_arr)\n",
    "\n",
    "# checking dimention\n",
    "\n",
    "print(three_d_arr.ndim)"
   ]
  },
  {
   "cell_type": "markdown",
   "id": "a5afb6e5",
   "metadata": {},
   "source": [
    "### higher dimention "
   ]
  },
  {
   "cell_type": "code",
   "execution_count": 11,
   "id": "b0bc9ba5",
   "metadata": {},
   "outputs": [
    {
     "name": "stdout",
     "output_type": "stream",
     "text": [
      "[[[[[1 2 3 4 5]]]]]\n",
      "5\n"
     ]
    }
   ],
   "source": [
    "five_d_arr = np.array([1,2,3,4,5],ndmin=5)\n",
    "\n",
    "print(five_d_arr)\n",
    "\n",
    "#checking dimentions\n",
    "\n",
    "print(five_d_arr.ndim)"
   ]
  },
  {
   "cell_type": "markdown",
   "id": "fbddd6d8",
   "metadata": {},
   "source": [
    "# Indexing"
   ]
  },
  {
   "cell_type": "code",
   "execution_count": 12,
   "id": "72ee8e2a",
   "metadata": {},
   "outputs": [],
   "source": [
    "arr = np.array([1, 2, 3, 4])"
   ]
  },
  {
   "cell_type": "code",
   "execution_count": 13,
   "id": "c790ecdc",
   "metadata": {},
   "outputs": [
    {
     "data": {
      "text/plain": [
       "1"
      ]
     },
     "execution_count": 13,
     "metadata": {},
     "output_type": "execute_result"
    }
   ],
   "source": [
    "arr[0]"
   ]
  },
  {
   "cell_type": "code",
   "execution_count": 14,
   "id": "3a349563",
   "metadata": {},
   "outputs": [],
   "source": [
    "arr = np.array([[1,2,3,4,5], [6,7,8,9,10]])"
   ]
  },
  {
   "cell_type": "code",
   "execution_count": 15,
   "id": "66adb102",
   "metadata": {},
   "outputs": [
    {
     "data": {
      "text/plain": [
       "2"
      ]
     },
     "execution_count": 15,
     "metadata": {},
     "output_type": "execute_result"
    }
   ],
   "source": [
    "# Access the element on the first row, second column:\n",
    "arr[0,1]"
   ]
  },
  {
   "cell_type": "code",
   "execution_count": 16,
   "id": "a04e15c7",
   "metadata": {},
   "outputs": [
    {
     "data": {
      "text/plain": [
       "2"
      ]
     },
     "execution_count": 16,
     "metadata": {},
     "output_type": "execute_result"
    }
   ],
   "source": [
    "arr[0][1]\n",
    "\n",
    "# same results"
   ]
  },
  {
   "cell_type": "code",
   "execution_count": 17,
   "id": "e9755b20",
   "metadata": {},
   "outputs": [
    {
     "data": {
      "text/plain": [
       "10"
      ]
     },
     "execution_count": 17,
     "metadata": {},
     "output_type": "execute_result"
    }
   ],
   "source": [
    "# Access the element on the 2nd row, 5th column:\n",
    "\n",
    "arr[1][4]"
   ]
  },
  {
   "cell_type": "code",
   "execution_count": 18,
   "id": "818fddd2",
   "metadata": {},
   "outputs": [
    {
     "data": {
      "text/plain": [
       "10"
      ]
     },
     "execution_count": 18,
     "metadata": {},
     "output_type": "execute_result"
    }
   ],
   "source": [
    "# or \n",
    "\n",
    "arr[1,4]"
   ]
  },
  {
   "cell_type": "code",
   "execution_count": 19,
   "id": "1f11153f",
   "metadata": {},
   "outputs": [],
   "source": [
    "arr = np.array([[[1, 2, 3], [4, 5, 6]], \n",
    "                [[7, 8, 9], [10, 11, 12]]])"
   ]
  },
  {
   "cell_type": "code",
   "execution_count": 20,
   "id": "8d6cc49e",
   "metadata": {},
   "outputs": [
    {
     "data": {
      "text/plain": [
       "6"
      ]
     },
     "execution_count": 20,
     "metadata": {},
     "output_type": "execute_result"
    }
   ],
   "source": [
    "# Access the third element of the second array of the first array:\n",
    "\n",
    "arr[0,1,2]"
   ]
  },
  {
   "cell_type": "code",
   "execution_count": 21,
   "id": "3f799e11",
   "metadata": {},
   "outputs": [
    {
     "data": {
      "text/plain": [
       "6"
      ]
     },
     "execution_count": 21,
     "metadata": {},
     "output_type": "execute_result"
    }
   ],
   "source": [
    "# or \n",
    "\n",
    "arr[0][1][2]"
   ]
  },
  {
   "cell_type": "markdown",
   "id": "8027771b",
   "metadata": {},
   "source": [
    "### negative index"
   ]
  },
  {
   "cell_type": "code",
   "execution_count": 22,
   "id": "66ac0495",
   "metadata": {},
   "outputs": [],
   "source": [
    "arr = np.array([[1,2,3,4,5], [6,7,8,9,10]])"
   ]
  },
  {
   "cell_type": "code",
   "execution_count": 23,
   "id": "94140a61",
   "metadata": {},
   "outputs": [
    {
     "data": {
      "text/plain": [
       "10"
      ]
     },
     "execution_count": 23,
     "metadata": {},
     "output_type": "execute_result"
    }
   ],
   "source": [
    "# Print the last element from the 2nd dim:\n",
    "\n",
    "arr[1,-1]"
   ]
  },
  {
   "cell_type": "code",
   "execution_count": 24,
   "id": "450bcc16",
   "metadata": {},
   "outputs": [
    {
     "data": {
      "text/plain": [
       "10"
      ]
     },
     "execution_count": 24,
     "metadata": {},
     "output_type": "execute_result"
    }
   ],
   "source": [
    "# or \n",
    "\n",
    "arr[1][-1]"
   ]
  },
  {
   "cell_type": "markdown",
   "id": "6ef699a6",
   "metadata": {},
   "source": [
    "# NumPy Array Slicing "
   ]
  },
  {
   "cell_type": "code",
   "execution_count": 25,
   "id": "633fb0eb",
   "metadata": {},
   "outputs": [],
   "source": [
    "arr = np.array([1, 2, 3, 4, 5, 6, 7])"
   ]
  },
  {
   "cell_type": "code",
   "execution_count": 26,
   "id": "b9bbb395",
   "metadata": {},
   "outputs": [
    {
     "data": {
      "text/plain": [
       "array([2, 3, 4, 5, 6])"
      ]
     },
     "execution_count": 26,
     "metadata": {},
     "output_type": "execute_result"
    }
   ],
   "source": [
    "arr[1:6]"
   ]
  },
  {
   "cell_type": "code",
   "execution_count": 27,
   "id": "5cf62386",
   "metadata": {},
   "outputs": [
    {
     "data": {
      "text/plain": [
       "array([3, 4, 5, 6])"
      ]
     },
     "execution_count": 27,
     "metadata": {},
     "output_type": "execute_result"
    }
   ],
   "source": [
    "# it includes start index but exclude end index\n",
    "\n",
    "arr[2:6]"
   ]
  },
  {
   "cell_type": "code",
   "execution_count": 28,
   "id": "cc25ee38",
   "metadata": {},
   "outputs": [
    {
     "data": {
      "text/plain": [
       "array([5, 6, 7])"
      ]
     },
     "execution_count": 28,
     "metadata": {},
     "output_type": "execute_result"
    }
   ],
   "source": [
    "# Slice elements from index 4 to the end of the array:\n",
    "\n",
    "arr[4:]"
   ]
  },
  {
   "cell_type": "code",
   "execution_count": 29,
   "id": "261d8538",
   "metadata": {},
   "outputs": [
    {
     "data": {
      "text/plain": [
       "array([1, 2, 3, 4])"
      ]
     },
     "execution_count": 29,
     "metadata": {},
     "output_type": "execute_result"
    }
   ],
   "source": [
    "# Slice elements from the beginning to index 4 (not included):\n",
    "\n",
    "arr[:4]"
   ]
  },
  {
   "cell_type": "markdown",
   "id": "4f21732a",
   "metadata": {},
   "source": [
    "### Negative Slicing"
   ]
  },
  {
   "cell_type": "code",
   "execution_count": 30,
   "id": "d22f0fb1",
   "metadata": {},
   "outputs": [],
   "source": [
    "arr = np.array([1, 2, 3, 4, 5, 6, 7])"
   ]
  },
  {
   "cell_type": "code",
   "execution_count": 31,
   "id": "360ca378",
   "metadata": {},
   "outputs": [
    {
     "data": {
      "text/plain": [
       "array([4, 5, 6])"
      ]
     },
     "execution_count": 31,
     "metadata": {},
     "output_type": "execute_result"
    }
   ],
   "source": [
    "arr[-4:-1]"
   ]
  },
  {
   "cell_type": "markdown",
   "id": "22ee68d7",
   "metadata": {},
   "source": [
    "### STEP"
   ]
  },
  {
   "cell_type": "code",
   "execution_count": 32,
   "id": "255eeb38",
   "metadata": {},
   "outputs": [],
   "source": [
    "arr = np.array([1, 2, 3, 4, 5, 6, 7])"
   ]
  },
  {
   "cell_type": "code",
   "execution_count": 33,
   "id": "8a48a9b9",
   "metadata": {},
   "outputs": [
    {
     "data": {
      "text/plain": [
       "array([2, 4, 6])"
      ]
     },
     "execution_count": 33,
     "metadata": {},
     "output_type": "execute_result"
    }
   ],
   "source": [
    "arr[1:6:2]"
   ]
  },
  {
   "cell_type": "markdown",
   "id": "fda4fb92",
   "metadata": {},
   "source": [
    "## Slicing 2-D Arrays"
   ]
  },
  {
   "cell_type": "code",
   "execution_count": 34,
   "id": "22d744de",
   "metadata": {},
   "outputs": [],
   "source": [
    "arr = np.array([[1, 2, 3, 4, 5], [6, 7, 8, 9, 10]])"
   ]
  },
  {
   "cell_type": "code",
   "execution_count": 35,
   "id": "4a3d4fc1",
   "metadata": {},
   "outputs": [
    {
     "data": {
      "text/plain": [
       "array([7, 8, 9])"
      ]
     },
     "execution_count": 35,
     "metadata": {},
     "output_type": "execute_result"
    }
   ],
   "source": [
    "arr[1,1:4]"
   ]
  },
  {
   "cell_type": "code",
   "execution_count": 36,
   "id": "69e5f4d1",
   "metadata": {},
   "outputs": [
    {
     "data": {
      "text/plain": [
       "array([3, 8])"
      ]
     },
     "execution_count": 36,
     "metadata": {},
     "output_type": "execute_result"
    }
   ],
   "source": [
    "# From both elements, return index 2:\n",
    "\n",
    "arr[0:2,2]"
   ]
  },
  {
   "cell_type": "code",
   "execution_count": 37,
   "id": "29c76349",
   "metadata": {},
   "outputs": [
    {
     "data": {
      "text/plain": [
       "array([[2, 3, 4],\n",
       "       [7, 8, 9]])"
      ]
     },
     "execution_count": 37,
     "metadata": {},
     "output_type": "execute_result"
    }
   ],
   "source": [
    "# From both elements, slice index 1 to index 4 (not included), this will return a 2-D array:\n",
    "\n",
    "arr[0:2,1:4]"
   ]
  },
  {
   "cell_type": "markdown",
   "id": "35761596",
   "metadata": {},
   "source": [
    "# NumPy Data Types"
   ]
  },
  {
   "cell_type": "code",
   "execution_count": 38,
   "id": "a0efb619",
   "metadata": {},
   "outputs": [],
   "source": [
    "arr = np.array([1, 2, 3, 4])"
   ]
  },
  {
   "cell_type": "markdown",
   "id": "44d80462",
   "metadata": {},
   "source": [
    "## Checking the Data Type of an Array"
   ]
  },
  {
   "cell_type": "code",
   "execution_count": 39,
   "id": "631764ae",
   "metadata": {},
   "outputs": [
    {
     "data": {
      "text/plain": [
       "dtype('int64')"
      ]
     },
     "execution_count": 39,
     "metadata": {},
     "output_type": "execute_result"
    }
   ],
   "source": [
    "arr.dtype"
   ]
  },
  {
   "cell_type": "code",
   "execution_count": 40,
   "id": "f62ddb09",
   "metadata": {},
   "outputs": [],
   "source": [
    "arr = np.array(['apple', 'banana', 'cherry'])"
   ]
  },
  {
   "cell_type": "code",
   "execution_count": 41,
   "id": "3ac2746f",
   "metadata": {},
   "outputs": [
    {
     "data": {
      "text/plain": [
       "dtype('<U6')"
      ]
     },
     "execution_count": 41,
     "metadata": {},
     "output_type": "execute_result"
    }
   ],
   "source": [
    "arr.dtype"
   ]
  },
  {
   "cell_type": "markdown",
   "id": "294a7c64",
   "metadata": {},
   "source": [
    "### Creating Arrays With a Defined Data Type"
   ]
  },
  {
   "cell_type": "code",
   "execution_count": 42,
   "id": "0e55ad2d",
   "metadata": {},
   "outputs": [],
   "source": [
    "arr = np.array([1,2,3,4], dtype='S')"
   ]
  },
  {
   "cell_type": "code",
   "execution_count": 43,
   "id": "8ab7e39f",
   "metadata": {},
   "outputs": [
    {
     "data": {
      "text/plain": [
       "array([b'1', b'2', b'3', b'4'], dtype='|S1')"
      ]
     },
     "execution_count": 43,
     "metadata": {},
     "output_type": "execute_result"
    }
   ],
   "source": [
    "arr"
   ]
  },
  {
   "cell_type": "code",
   "execution_count": 44,
   "id": "23ae0197",
   "metadata": {},
   "outputs": [
    {
     "data": {
      "text/plain": [
       "dtype('S1')"
      ]
     },
     "execution_count": 44,
     "metadata": {},
     "output_type": "execute_result"
    }
   ],
   "source": [
    "arr.dtype"
   ]
  },
  {
   "cell_type": "code",
   "execution_count": 45,
   "id": "f2bf29b6",
   "metadata": {},
   "outputs": [],
   "source": [
    "arr = np.array([1, 2, 3, 4], dtype='i4')"
   ]
  },
  {
   "cell_type": "code",
   "execution_count": 46,
   "id": "ea9a4b5f",
   "metadata": {},
   "outputs": [
    {
     "data": {
      "text/plain": [
       "dtype('int32')"
      ]
     },
     "execution_count": 46,
     "metadata": {},
     "output_type": "execute_result"
    }
   ],
   "source": [
    "arr.dtype"
   ]
  },
  {
   "cell_type": "code",
   "execution_count": 47,
   "id": "3a5550b4",
   "metadata": {},
   "outputs": [
    {
     "ename": "ValueError",
     "evalue": "invalid literal for int() with base 10: 'a'",
     "output_type": "error",
     "traceback": [
      "\u001b[0;31m---------------------------------------------------------------------------\u001b[0m",
      "\u001b[0;31mValueError\u001b[0m                                Traceback (most recent call last)",
      "\u001b[0;32m/var/folders/jc/_hct2d2n7qxgd7xj93_4dtsw0000gn/T/ipykernel_795/2959808395.py\u001b[0m in \u001b[0;36m<module>\u001b[0;34m\u001b[0m\n\u001b[1;32m      3\u001b[0m \u001b[0;31m# it will raise ValueError\u001b[0m\u001b[0;34m\u001b[0m\u001b[0;34m\u001b[0m\u001b[0m\n\u001b[1;32m      4\u001b[0m \u001b[0;34m\u001b[0m\u001b[0m\n\u001b[0;32m----> 5\u001b[0;31m \u001b[0marr\u001b[0m \u001b[0;34m=\u001b[0m \u001b[0mnp\u001b[0m\u001b[0;34m.\u001b[0m\u001b[0marray\u001b[0m\u001b[0;34m(\u001b[0m\u001b[0;34m[\u001b[0m\u001b[0;34m'a'\u001b[0m\u001b[0;34m,\u001b[0m \u001b[0;34m'2'\u001b[0m\u001b[0;34m,\u001b[0m \u001b[0;34m'3'\u001b[0m\u001b[0;34m]\u001b[0m\u001b[0;34m,\u001b[0m \u001b[0mdtype\u001b[0m\u001b[0;34m=\u001b[0m\u001b[0;34m'i'\u001b[0m\u001b[0;34m)\u001b[0m\u001b[0;34m\u001b[0m\u001b[0;34m\u001b[0m\u001b[0m\n\u001b[0m",
      "\u001b[0;31mValueError\u001b[0m: invalid literal for int() with base 10: 'a'"
     ]
    }
   ],
   "source": [
    "# What if value can be canoverted ?\n",
    "\n",
    "# it will raise ValueError\n",
    "\n",
    "arr = np.array(['a', '2', '3'], dtype='i')"
   ]
  },
  {
   "cell_type": "markdown",
   "id": "669cb84e",
   "metadata": {},
   "source": [
    "### Converting Data Type on Existing Arrays"
   ]
  },
  {
   "cell_type": "code",
   "execution_count": 48,
   "id": "65dfd043",
   "metadata": {},
   "outputs": [],
   "source": [
    "arr = np.array([1.1, 2.1, 3.1])"
   ]
  },
  {
   "cell_type": "code",
   "execution_count": 49,
   "id": "1bf0c526",
   "metadata": {},
   "outputs": [],
   "source": [
    "arr_new = arr.astype('i')"
   ]
  },
  {
   "cell_type": "code",
   "execution_count": 50,
   "id": "7b4cb808",
   "metadata": {},
   "outputs": [
    {
     "data": {
      "text/plain": [
       "array([1, 2, 3], dtype=int32)"
      ]
     },
     "execution_count": 50,
     "metadata": {},
     "output_type": "execute_result"
    }
   ],
   "source": [
    "arr_new"
   ]
  },
  {
   "cell_type": "markdown",
   "id": "37a72b95",
   "metadata": {},
   "source": [
    "### Change data type from float to integer by using int as parameter value:"
   ]
  },
  {
   "cell_type": "code",
   "execution_count": 51,
   "id": "1d77cf9c",
   "metadata": {},
   "outputs": [],
   "source": [
    "arr = np.array([1.1, 2.1, 3.1])"
   ]
  },
  {
   "cell_type": "code",
   "execution_count": 52,
   "id": "22d8a765",
   "metadata": {},
   "outputs": [],
   "source": [
    "new_arr = arr.astype(int)"
   ]
  },
  {
   "cell_type": "code",
   "execution_count": 53,
   "id": "8a18a891",
   "metadata": {},
   "outputs": [
    {
     "data": {
      "text/plain": [
       "dtype('int64')"
      ]
     },
     "execution_count": 53,
     "metadata": {},
     "output_type": "execute_result"
    }
   ],
   "source": [
    "new_arr.dtype"
   ]
  },
  {
   "cell_type": "code",
   "execution_count": 54,
   "id": "03d7f805",
   "metadata": {},
   "outputs": [],
   "source": [
    "# bool\n",
    "\n",
    "\n",
    "arr = np.array([1, 0, 3])\n",
    "\n",
    "new_arr = arr.astype(bool)"
   ]
  },
  {
   "cell_type": "code",
   "execution_count": 55,
   "id": "c67da1e1",
   "metadata": {},
   "outputs": [
    {
     "data": {
      "text/plain": [
       "array([ True, False,  True])"
      ]
     },
     "execution_count": 55,
     "metadata": {},
     "output_type": "execute_result"
    }
   ],
   "source": [
    "new_arr"
   ]
  },
  {
   "cell_type": "markdown",
   "id": "f7922a64",
   "metadata": {},
   "source": [
    "# NumPy Array Copy vs View"
   ]
  },
  {
   "cell_type": "code",
   "execution_count": 56,
   "id": "cc5757f6",
   "metadata": {},
   "outputs": [],
   "source": [
    "arr = np.array([1,2,3,4,5])"
   ]
  },
  {
   "cell_type": "code",
   "execution_count": 57,
   "id": "6d0110d9",
   "metadata": {},
   "outputs": [],
   "source": [
    "x = arr.copy()"
   ]
  },
  {
   "cell_type": "code",
   "execution_count": 58,
   "id": "6107beb5",
   "metadata": {},
   "outputs": [],
   "source": [
    "arr[0] = 42"
   ]
  },
  {
   "cell_type": "code",
   "execution_count": 59,
   "id": "267ad044",
   "metadata": {},
   "outputs": [
    {
     "name": "stdout",
     "output_type": "stream",
     "text": [
      "[1 2 3 4 5]\n"
     ]
    }
   ],
   "source": [
    "print(x)"
   ]
  },
  {
   "cell_type": "code",
   "execution_count": 60,
   "id": "ac587884",
   "metadata": {},
   "outputs": [
    {
     "name": "stdout",
     "output_type": "stream",
     "text": [
      "[42  2  3  4  5]\n"
     ]
    }
   ],
   "source": [
    "print(arr)"
   ]
  },
  {
   "cell_type": "code",
   "execution_count": 61,
   "id": "3d9a6213",
   "metadata": {},
   "outputs": [],
   "source": [
    "## View()\n",
    "\n",
    "arr = np.array([1, 2, 3, 4, 5])"
   ]
  },
  {
   "cell_type": "code",
   "execution_count": 62,
   "id": "b71f6634",
   "metadata": {},
   "outputs": [],
   "source": [
    "x = arr.view()"
   ]
  },
  {
   "cell_type": "code",
   "execution_count": 63,
   "id": "31670f03",
   "metadata": {},
   "outputs": [],
   "source": [
    "x[0] = 31"
   ]
  },
  {
   "cell_type": "code",
   "execution_count": 64,
   "id": "0e50e22e",
   "metadata": {},
   "outputs": [
    {
     "name": "stdout",
     "output_type": "stream",
     "text": [
      "[31  2  3  4  5]\n"
     ]
    }
   ],
   "source": [
    "print(arr)"
   ]
  },
  {
   "cell_type": "code",
   "execution_count": 65,
   "id": "1e2842a3",
   "metadata": {},
   "outputs": [
    {
     "name": "stdout",
     "output_type": "stream",
     "text": [
      "[31  2  3  4  5]\n"
     ]
    }
   ],
   "source": [
    "print(x)"
   ]
  },
  {
   "cell_type": "markdown",
   "id": "b10f90d0",
   "metadata": {},
   "source": [
    "### Check if Array Owns its Data"
   ]
  },
  {
   "cell_type": "code",
   "execution_count": 66,
   "id": "14c3e744",
   "metadata": {},
   "outputs": [],
   "source": [
    "arr = np.array([1, 2, 3, 4, 5])\n",
    "\n",
    "x = arr.copy()\n",
    "y = arr.view()"
   ]
  },
  {
   "cell_type": "code",
   "execution_count": 67,
   "id": "bff96cf1",
   "metadata": {},
   "outputs": [
    {
     "name": "stdout",
     "output_type": "stream",
     "text": [
      "None\n"
     ]
    }
   ],
   "source": [
    "print(x.base)"
   ]
  },
  {
   "cell_type": "code",
   "execution_count": 68,
   "id": "cb22b868",
   "metadata": {},
   "outputs": [
    {
     "name": "stdout",
     "output_type": "stream",
     "text": [
      "[1 2 3 4 5]\n"
     ]
    }
   ],
   "source": [
    "print(y.base)"
   ]
  },
  {
   "cell_type": "markdown",
   "id": "4db7cd8c",
   "metadata": {},
   "source": [
    "# Numpy Shape\n",
    "\n",
    "#### The shape of an array is the number of elements in each dimension"
   ]
  },
  {
   "cell_type": "code",
   "execution_count": 69,
   "id": "a3899cc5",
   "metadata": {},
   "outputs": [],
   "source": [
    "arr = np.array([[1, 2, 3, 4], [5, 6, 7, 8]])"
   ]
  },
  {
   "cell_type": "code",
   "execution_count": 70,
   "id": "87cc7594",
   "metadata": {},
   "outputs": [
    {
     "data": {
      "text/plain": [
       "(2, 4)"
      ]
     },
     "execution_count": 70,
     "metadata": {},
     "output_type": "execute_result"
    }
   ],
   "source": [
    "arr.shape"
   ]
  },
  {
   "cell_type": "markdown",
   "id": "3f8eabd3",
   "metadata": {},
   "source": [
    "#### The example above returns (2, 4), which means that the array has 2 dimensions, where the first dimension has 2 elements and the second has 4."
   ]
  },
  {
   "cell_type": "code",
   "execution_count": 71,
   "id": "18891524",
   "metadata": {},
   "outputs": [],
   "source": [
    "arr = np.array([1, 2, 3, 4], ndmin=5)"
   ]
  },
  {
   "cell_type": "code",
   "execution_count": 72,
   "id": "5b610fb1",
   "metadata": {},
   "outputs": [
    {
     "data": {
      "text/plain": [
       "array([[[[[1, 2, 3, 4]]]]])"
      ]
     },
     "execution_count": 72,
     "metadata": {},
     "output_type": "execute_result"
    }
   ],
   "source": [
    "arr"
   ]
  },
  {
   "cell_type": "code",
   "execution_count": 73,
   "id": "a8e09fda",
   "metadata": {},
   "outputs": [
    {
     "data": {
      "text/plain": [
       "(1, 1, 1, 1, 4)"
      ]
     },
     "execution_count": 73,
     "metadata": {},
     "output_type": "execute_result"
    }
   ],
   "source": [
    "arr.shape"
   ]
  },
  {
   "cell_type": "markdown",
   "id": "9239ffa1",
   "metadata": {},
   "source": [
    "# NumPy Array Reshaping"
   ]
  },
  {
   "cell_type": "markdown",
   "id": "e33422e5",
   "metadata": {},
   "source": [
    "## Reshape From 1-D to 2-D"
   ]
  },
  {
   "cell_type": "code",
   "execution_count": 74,
   "id": "818350c0",
   "metadata": {},
   "outputs": [],
   "source": [
    "arr = np.array([1, 2, 3, 4, 5, 6, 7, 8, 9, 10, 11, 12])"
   ]
  },
  {
   "cell_type": "code",
   "execution_count": 75,
   "id": "a775b792",
   "metadata": {},
   "outputs": [
    {
     "data": {
      "text/plain": [
       "array([[ 1,  2,  3],\n",
       "       [ 4,  5,  6],\n",
       "       [ 7,  8,  9],\n",
       "       [10, 11, 12]])"
      ]
     },
     "execution_count": 75,
     "metadata": {},
     "output_type": "execute_result"
    }
   ],
   "source": [
    "# Convert the following 1-D array with 12 elements into a 2-D array.\n",
    "\n",
    "# The outermost dimension will have 4 arrays, each with 3 elements:\n",
    "\n",
    "arr.reshape(4,3)"
   ]
  },
  {
   "cell_type": "code",
   "execution_count": 76,
   "id": "58cdfde8",
   "metadata": {},
   "outputs": [
    {
     "data": {
      "text/plain": [
       "2"
      ]
     },
     "execution_count": 76,
     "metadata": {},
     "output_type": "execute_result"
    }
   ],
   "source": [
    "# dimention\n",
    "\n",
    "arr.reshape(4,3).ndim"
   ]
  },
  {
   "cell_type": "markdown",
   "id": "095a7239",
   "metadata": {},
   "source": [
    "## Reshape From 1-D to 3-D"
   ]
  },
  {
   "cell_type": "code",
   "execution_count": 77,
   "id": "2f957476",
   "metadata": {},
   "outputs": [],
   "source": [
    "arr = np.array([1, 2, 3, 4, 5, 6, 7, 8, 9, 10, 11, 12])"
   ]
  },
  {
   "cell_type": "markdown",
   "id": "3ce52a92",
   "metadata": {},
   "source": [
    "#### Convert the following 1-D array with 12 elements into a 3-D array.\n",
    "\n",
    "#### The outermost dimension will have 2 arrays that contains 3 arrays, each with 2 elements:\n",
    "\n"
   ]
  },
  {
   "cell_type": "code",
   "execution_count": 78,
   "id": "95b34208",
   "metadata": {},
   "outputs": [
    {
     "data": {
      "text/plain": [
       "array([[[ 1,  2],\n",
       "        [ 3,  4],\n",
       "        [ 5,  6]],\n",
       "\n",
       "       [[ 7,  8],\n",
       "        [ 9, 10],\n",
       "        [11, 12]]])"
      ]
     },
     "execution_count": 78,
     "metadata": {},
     "output_type": "execute_result"
    }
   ],
   "source": [
    "arr.reshape(2,3,2)"
   ]
  },
  {
   "cell_type": "code",
   "execution_count": 79,
   "id": "103ee5af",
   "metadata": {},
   "outputs": [],
   "source": [
    "# Can We Reshape Into any Shape?"
   ]
  },
  {
   "cell_type": "code",
   "execution_count": 80,
   "id": "444b307a",
   "metadata": {},
   "outputs": [],
   "source": [
    "# Yes, as long as the elements required for reshaping are equal in both shapes."
   ]
  },
  {
   "cell_type": "code",
   "execution_count": 81,
   "id": "7e19fc0e",
   "metadata": {},
   "outputs": [],
   "source": [
    "arr = np.array([1, 2, 3, 4, 5, 6, 7, 8])"
   ]
  },
  {
   "cell_type": "code",
   "execution_count": 82,
   "id": "92ccce43",
   "metadata": {},
   "outputs": [
    {
     "ename": "ValueError",
     "evalue": "cannot reshape array of size 8 into shape (3,3)",
     "output_type": "error",
     "traceback": [
      "\u001b[0;31m---------------------------------------------------------------------------\u001b[0m",
      "\u001b[0;31mValueError\u001b[0m                                Traceback (most recent call last)",
      "\u001b[0;32m/var/folders/jc/_hct2d2n7qxgd7xj93_4dtsw0000gn/T/ipykernel_795/3879969749.py\u001b[0m in \u001b[0;36m<module>\u001b[0;34m\u001b[0m\n\u001b[0;32m----> 1\u001b[0;31m \u001b[0marr_new\u001b[0m \u001b[0;34m=\u001b[0m \u001b[0marr\u001b[0m\u001b[0;34m.\u001b[0m\u001b[0mreshape\u001b[0m\u001b[0;34m(\u001b[0m\u001b[0;36m3\u001b[0m\u001b[0;34m,\u001b[0m\u001b[0;36m3\u001b[0m\u001b[0;34m)\u001b[0m\u001b[0;34m\u001b[0m\u001b[0;34m\u001b[0m\u001b[0m\n\u001b[0m",
      "\u001b[0;31mValueError\u001b[0m: cannot reshape array of size 8 into shape (3,3)"
     ]
    }
   ],
   "source": [
    "arr_new = arr.reshape(3,3)"
   ]
  },
  {
   "cell_type": "markdown",
   "id": "ad58be0c",
   "metadata": {},
   "source": [
    "# Unknown Dimension"
   ]
  },
  {
   "cell_type": "code",
   "execution_count": 83,
   "id": "1c49f570",
   "metadata": {},
   "outputs": [],
   "source": [
    "arr = np.array([1, 2, 3, 4, 5, 6, 7, 8])"
   ]
  },
  {
   "cell_type": "code",
   "execution_count": 84,
   "id": "402f116a",
   "metadata": {},
   "outputs": [],
   "source": [
    "arr_new = arr.reshape(2,2,-1)"
   ]
  },
  {
   "cell_type": "code",
   "execution_count": 85,
   "id": "6c3a6003",
   "metadata": {},
   "outputs": [
    {
     "data": {
      "text/plain": [
       "array([[[1, 2],\n",
       "        [3, 4]],\n",
       "\n",
       "       [[5, 6],\n",
       "        [7, 8]]])"
      ]
     },
     "execution_count": 85,
     "metadata": {},
     "output_type": "execute_result"
    }
   ],
   "source": [
    "arr_new"
   ]
  },
  {
   "cell_type": "markdown",
   "id": "97453747",
   "metadata": {},
   "source": [
    "### Flattening the arrays\n",
    "Flattening array means converting a multidimensional array into a 1D array.\n",
    "\n",
    "We can use reshape(-1) to do this.\n",
    "\n"
   ]
  },
  {
   "cell_type": "code",
   "execution_count": 86,
   "id": "6612dd59",
   "metadata": {},
   "outputs": [],
   "source": [
    "arr = np.array([[1, 2, 3], [4, 5, 6]])"
   ]
  },
  {
   "cell_type": "code",
   "execution_count": 87,
   "id": "b61dc3e3",
   "metadata": {},
   "outputs": [],
   "source": [
    "arr_new = arr.reshape(-1)"
   ]
  },
  {
   "cell_type": "code",
   "execution_count": 88,
   "id": "92100f6e",
   "metadata": {},
   "outputs": [
    {
     "data": {
      "text/plain": [
       "array([1, 2, 3, 4, 5, 6])"
      ]
     },
     "execution_count": 88,
     "metadata": {},
     "output_type": "execute_result"
    }
   ],
   "source": [
    "arr_new"
   ]
  },
  {
   "cell_type": "markdown",
   "id": "bbe761c7",
   "metadata": {},
   "source": [
    "### Iterating Arrays\n",
    "Iterating means going through elements one by one.\n",
    "\n",
    "As we deal with multi-dimensional arrays in numpy, we can do this using basic for loop of python.\n",
    "\n",
    "If we iterate on a 1-D array it will go through each element one by one."
   ]
  },
  {
   "cell_type": "code",
   "execution_count": 89,
   "id": "2272f3bb",
   "metadata": {},
   "outputs": [],
   "source": [
    "# Iterate on the elements of the following 1-D array:\n",
    "\n",
    "arr = np.array([1, 2, 3])"
   ]
  },
  {
   "cell_type": "code",
   "execution_count": 90,
   "id": "429d405a",
   "metadata": {},
   "outputs": [
    {
     "name": "stdout",
     "output_type": "stream",
     "text": [
      "1\n",
      "2\n",
      "3\n"
     ]
    }
   ],
   "source": [
    "for x in arr:\n",
    "    print(x)"
   ]
  },
  {
   "cell_type": "markdown",
   "id": "164630c8",
   "metadata": {},
   "source": [
    "### Iterating 2-D Arrays\n",
    "In a 2-D array it will go through all the rows.\n",
    "\n"
   ]
  },
  {
   "cell_type": "code",
   "execution_count": 91,
   "id": "0223b0b3",
   "metadata": {},
   "outputs": [],
   "source": [
    "arr = np.array([[1, 2, 3], [4, 5, 6]])"
   ]
  },
  {
   "cell_type": "code",
   "execution_count": 92,
   "id": "495bdb5d",
   "metadata": {},
   "outputs": [
    {
     "name": "stdout",
     "output_type": "stream",
     "text": [
      "[1 2 3]\n",
      "[4 5 6]\n"
     ]
    }
   ],
   "source": [
    "for x in arr:\n",
    "    print(x)"
   ]
  },
  {
   "cell_type": "code",
   "execution_count": 93,
   "id": "5d14a08e",
   "metadata": {},
   "outputs": [
    {
     "name": "stdout",
     "output_type": "stream",
     "text": [
      "1\n",
      "2\n",
      "3\n",
      "4\n",
      "5\n",
      "6\n"
     ]
    }
   ],
   "source": [
    "for x in arr:\n",
    "    for y in x:\n",
    "        print(y)"
   ]
  },
  {
   "cell_type": "markdown",
   "id": "895f88ea",
   "metadata": {},
   "source": [
    "### Iterating 3-D Arrays\n",
    "In a 3-D array it will go through all the 2-D arrays."
   ]
  },
  {
   "cell_type": "code",
   "execution_count": 94,
   "id": "f70dcd51",
   "metadata": {},
   "outputs": [],
   "source": [
    "arr = np.array([[[1, 2, 3], [4, 5, 6]], [[7, 8, 9], [10, 11, 12]]])"
   ]
  },
  {
   "cell_type": "code",
   "execution_count": 95,
   "id": "b59082dd",
   "metadata": {},
   "outputs": [
    {
     "name": "stdout",
     "output_type": "stream",
     "text": [
      "1 2 3 4 5 6 7 8 9 10 11 12 "
     ]
    }
   ],
   "source": [
    "for x in arr:\n",
    "    for y in x:\n",
    "        for z in y:\n",
    "            print(z, end=' ')"
   ]
  },
  {
   "cell_type": "code",
   "execution_count": 96,
   "id": "39c5ca9a",
   "metadata": {},
   "outputs": [],
   "source": [
    "arr = np.array([[[1, 2], [3, 4]], [[5, 6], [7, 8]]])"
   ]
  },
  {
   "cell_type": "code",
   "execution_count": 97,
   "id": "af07443a",
   "metadata": {},
   "outputs": [
    {
     "name": "stdout",
     "output_type": "stream",
     "text": [
      "1 2 3 4 5 6 7 8 "
     ]
    }
   ],
   "source": [
    "# nditer()\n",
    "\n",
    "for x in np.nditer(arr):\n",
    "    print(x, end=' ')"
   ]
  },
  {
   "cell_type": "markdown",
   "id": "62587e03",
   "metadata": {},
   "source": [
    "### Iterating Array With Different Data Types\n",
    "We can use op_dtypes argument and pass it the expected datatype to change the datatype of elements while iterating.\n",
    "\n",
    "NumPy does not change the data type of the element in-place (where the element is in array) so it needs some other space to perform this action, that extra space is called buffer, and in order to enable it in nditer() we pass flags=['buffered']."
   ]
  },
  {
   "cell_type": "code",
   "execution_count": 98,
   "id": "f69a3360",
   "metadata": {},
   "outputs": [],
   "source": [
    "arr = np.array([1, 2, 3])"
   ]
  },
  {
   "cell_type": "code",
   "execution_count": 99,
   "id": "a9c9da40",
   "metadata": {},
   "outputs": [
    {
     "name": "stdout",
     "output_type": "stream",
     "text": [
      "b'1'\n",
      "b'2'\n",
      "b'3'\n"
     ]
    }
   ],
   "source": [
    "for x in np.nditer(arr, flags=['buffered'], op_dtypes=['S']):\n",
    "    print(x)"
   ]
  },
  {
   "cell_type": "markdown",
   "id": "d0f768c1",
   "metadata": {},
   "source": [
    "## Iterating With Different Step Size"
   ]
  },
  {
   "cell_type": "code",
   "execution_count": 100,
   "id": "e0b7a8a5",
   "metadata": {},
   "outputs": [],
   "source": [
    "# Iterate through every scalar element of the 2D array skipping 1 element:"
   ]
  },
  {
   "cell_type": "code",
   "execution_count": 101,
   "id": "58dfdde4",
   "metadata": {},
   "outputs": [],
   "source": [
    "arr = np.array([[1, 2, 3, 4], [5, 6, 7, 8]])"
   ]
  },
  {
   "cell_type": "code",
   "execution_count": 102,
   "id": "638aa530",
   "metadata": {},
   "outputs": [
    {
     "name": "stdout",
     "output_type": "stream",
     "text": [
      "1\n",
      "3\n",
      "5\n",
      "7\n"
     ]
    }
   ],
   "source": [
    "for x in np.nditer(arr[:, ::2]):\n",
    "    print(x)"
   ]
  },
  {
   "cell_type": "markdown",
   "id": "2658ff30",
   "metadata": {},
   "source": [
    "### Enumerated Iteration Using ndenumerate()\n",
    "Enumeration means mentioning sequence number of somethings one by one.\n",
    "\n",
    "Sometimes we require corresponding index of the element while iterating, the ndenumerate() method can be used for those usecases."
   ]
  },
  {
   "cell_type": "code",
   "execution_count": 103,
   "id": "3c237337",
   "metadata": {},
   "outputs": [],
   "source": [
    "arr = np.array([1, 2, 3])"
   ]
  },
  {
   "cell_type": "code",
   "execution_count": 104,
   "id": "0c611eba",
   "metadata": {},
   "outputs": [
    {
     "name": "stdout",
     "output_type": "stream",
     "text": [
      "(0,) 1\n",
      "(1,) 2\n",
      "(2,) 3\n"
     ]
    }
   ],
   "source": [
    "for idx, x in np.ndenumerate(arr):\n",
    "    print(idx, x)"
   ]
  },
  {
   "cell_type": "code",
   "execution_count": 105,
   "id": "c4dff21b",
   "metadata": {},
   "outputs": [],
   "source": [
    "## Enumerate on following 2D array's elements:"
   ]
  },
  {
   "cell_type": "code",
   "execution_count": 106,
   "id": "cb2c6062",
   "metadata": {},
   "outputs": [],
   "source": [
    "arr = np.array([[1, 2, 3, 4], [5, 6, 7, 8]])"
   ]
  },
  {
   "cell_type": "code",
   "execution_count": 107,
   "id": "30f00c44",
   "metadata": {},
   "outputs": [
    {
     "name": "stdout",
     "output_type": "stream",
     "text": [
      "(0, 0) 1\n",
      "(0, 1) 2\n",
      "(0, 2) 3\n",
      "(0, 3) 4\n",
      "(1, 0) 5\n",
      "(1, 1) 6\n",
      "(1, 2) 7\n",
      "(1, 3) 8\n"
     ]
    }
   ],
   "source": [
    "for idx, x in np.ndenumerate(arr):\n",
    "    print(idx, x)"
   ]
  },
  {
   "cell_type": "markdown",
   "id": "dfaabf8e",
   "metadata": {},
   "source": [
    "# Join"
   ]
  },
  {
   "cell_type": "code",
   "execution_count": 108,
   "id": "3cc1bb3a",
   "metadata": {},
   "outputs": [],
   "source": [
    "arr1 = np.array([1, 2, 3])\n",
    "\n",
    "arr2 = np.array([4, 5, 6])"
   ]
  },
  {
   "cell_type": "code",
   "execution_count": 109,
   "id": "427ac19c",
   "metadata": {},
   "outputs": [],
   "source": [
    "arr = np.concatenate((arr1,arr2))\n",
    "\n",
    "# f axis is not explicitly passed, it is taken as 0."
   ]
  },
  {
   "cell_type": "code",
   "execution_count": 110,
   "id": "1d6cd4cf",
   "metadata": {},
   "outputs": [
    {
     "data": {
      "text/plain": [
       "array([1, 2, 3, 4, 5, 6])"
      ]
     },
     "execution_count": 110,
     "metadata": {},
     "output_type": "execute_result"
    }
   ],
   "source": [
    "arr"
   ]
  },
  {
   "cell_type": "code",
   "execution_count": 111,
   "id": "daab559d",
   "metadata": {},
   "outputs": [],
   "source": [
    "# Join two 2-D arrays along rows (axis=1):\n",
    "\n",
    "arr1 = np.array([[1, 2], [3, 4]])\n",
    "\n",
    "arr2 = np.array([[5, 6], [7, 8]])"
   ]
  },
  {
   "cell_type": "code",
   "execution_count": 112,
   "id": "14bf550a",
   "metadata": {},
   "outputs": [],
   "source": [
    "arr = np.concatenate((arr1,arr2),axis=1)"
   ]
  },
  {
   "cell_type": "code",
   "execution_count": 113,
   "id": "4b818a70",
   "metadata": {},
   "outputs": [
    {
     "data": {
      "text/plain": [
       "array([[1, 2, 5, 6],\n",
       "       [3, 4, 7, 8]])"
      ]
     },
     "execution_count": 113,
     "metadata": {},
     "output_type": "execute_result"
    }
   ],
   "source": [
    "arr"
   ]
  },
  {
   "cell_type": "markdown",
   "id": "1f63663a",
   "metadata": {},
   "source": [
    "## Joining Arrays Using Stack Functions"
   ]
  },
  {
   "cell_type": "code",
   "execution_count": 114,
   "id": "51f52dee",
   "metadata": {},
   "outputs": [],
   "source": [
    "arr1 = np.array([1, 2, 3])\n",
    "\n",
    "arr2 = np.array([4, 5, 6])"
   ]
  },
  {
   "cell_type": "code",
   "execution_count": 115,
   "id": "713b616c",
   "metadata": {},
   "outputs": [],
   "source": [
    "arr = np.stack((arr1,arr2),axis=1)"
   ]
  },
  {
   "cell_type": "code",
   "execution_count": 116,
   "id": "c57afa9c",
   "metadata": {},
   "outputs": [
    {
     "data": {
      "text/plain": [
       "array([[1, 4],\n",
       "       [2, 5],\n",
       "       [3, 6]])"
      ]
     },
     "execution_count": 116,
     "metadata": {},
     "output_type": "execute_result"
    }
   ],
   "source": [
    "arr"
   ]
  },
  {
   "cell_type": "code",
   "execution_count": 117,
   "id": "bf6f376b",
   "metadata": {},
   "outputs": [],
   "source": [
    "arr1 = np.array([1, 2, 3])\n",
    "\n",
    "arr2 = np.array([4, 5, 6])"
   ]
  },
  {
   "cell_type": "code",
   "execution_count": 118,
   "id": "d65993a4",
   "metadata": {},
   "outputs": [],
   "source": [
    "arr = np.hstack((arr1, arr2))"
   ]
  },
  {
   "cell_type": "code",
   "execution_count": 119,
   "id": "f9c05fc2",
   "metadata": {},
   "outputs": [
    {
     "data": {
      "text/plain": [
       "array([1, 2, 3, 4, 5, 6])"
      ]
     },
     "execution_count": 119,
     "metadata": {},
     "output_type": "execute_result"
    }
   ],
   "source": [
    "arr"
   ]
  },
  {
   "cell_type": "code",
   "execution_count": 120,
   "id": "52253ffd",
   "metadata": {},
   "outputs": [],
   "source": [
    "# Stacking Along Columns\n",
    "\n",
    "arr1 = np.array([1, 2, 3])\n",
    "\n",
    "arr2 = np.array([4, 5, 6])\n",
    "\n",
    "arr = np.vstack((arr1, arr2))"
   ]
  },
  {
   "cell_type": "code",
   "execution_count": 121,
   "id": "8bc220d5",
   "metadata": {},
   "outputs": [
    {
     "data": {
      "text/plain": [
       "array([[1, 2, 3],\n",
       "       [4, 5, 6]])"
      ]
     },
     "execution_count": 121,
     "metadata": {},
     "output_type": "execute_result"
    }
   ],
   "source": [
    "arr"
   ]
  },
  {
   "cell_type": "code",
   "execution_count": 122,
   "id": "7bf49960",
   "metadata": {},
   "outputs": [],
   "source": [
    "# NumPy provides a helper function: dstack() to stack along height, which is the same as depth.\n",
    "arr1 = np.array([1, 2, 3])\n",
    "\n",
    "arr2 = np.array([4, 5, 6])\n",
    "\n",
    "arr = np.dstack((arr1, arr2))"
   ]
  },
  {
   "cell_type": "code",
   "execution_count": 123,
   "id": "44c57e8e",
   "metadata": {},
   "outputs": [
    {
     "data": {
      "text/plain": [
       "array([[[1, 4],\n",
       "        [2, 5],\n",
       "        [3, 6]]])"
      ]
     },
     "execution_count": 123,
     "metadata": {},
     "output_type": "execute_result"
    }
   ],
   "source": [
    "arr"
   ]
  },
  {
   "cell_type": "markdown",
   "id": "18c10a21",
   "metadata": {},
   "source": [
    "# SPLIT\n",
    "\n",
    "Splitting NumPy Arrays\n",
    "Splitting is reverse operation of Joining.\n",
    "\n",
    "Joining merges multiple arrays into one and Splitting breaks one array into multiple.\n",
    "\n",
    "We use array_split() for splitting arrays, we pass it the array we want to split and the number of splits."
   ]
  },
  {
   "cell_type": "code",
   "execution_count": 124,
   "id": "9db170ca",
   "metadata": {},
   "outputs": [],
   "source": [
    "arr = np.array([1, 2, 3, 4, 5, 6])"
   ]
  },
  {
   "cell_type": "code",
   "execution_count": 125,
   "id": "968fd630",
   "metadata": {},
   "outputs": [],
   "source": [
    "arr_new = np.array_split(arr, 3)"
   ]
  },
  {
   "cell_type": "code",
   "execution_count": 126,
   "id": "895f8ef7",
   "metadata": {},
   "outputs": [
    {
     "data": {
      "text/plain": [
       "[array([1, 2]), array([3, 4]), array([5, 6])]"
      ]
     },
     "execution_count": 126,
     "metadata": {},
     "output_type": "execute_result"
    }
   ],
   "source": [
    "arr_new"
   ]
  },
  {
   "cell_type": "code",
   "execution_count": 127,
   "id": "f79b94bd",
   "metadata": {},
   "outputs": [],
   "source": [
    "# If the array has less elements than required, it will adjust from the end accordingly.\n",
    "\n",
    "arr = np.array([1, 2, 3, 4, 5, 6])\n",
    "\n",
    "arr_new = np.array_split(arr, 4)"
   ]
  },
  {
   "cell_type": "code",
   "execution_count": 128,
   "id": "c2e756be",
   "metadata": {},
   "outputs": [
    {
     "data": {
      "text/plain": [
       "[array([1, 2]), array([3, 4]), array([5]), array([6])]"
      ]
     },
     "execution_count": 128,
     "metadata": {},
     "output_type": "execute_result"
    }
   ],
   "source": [
    "arr_new"
   ]
  },
  {
   "cell_type": "markdown",
   "id": "6ec40e88",
   "metadata": {},
   "source": [
    "##### Note: We also have the method split() available but it will not adjust the elements when elements are less in source array for splitting like in example above, array_split() worked properly but split() would fail."
   ]
  },
  {
   "cell_type": "code",
   "execution_count": 129,
   "id": "1b38b9eb",
   "metadata": {},
   "outputs": [],
   "source": [
    "arr = np.array([1, 2, 3, 4, 5, 6])\n",
    "\n",
    "arr_new = np.array_split(arr, 3)"
   ]
  },
  {
   "cell_type": "code",
   "execution_count": 130,
   "id": "41d9e77d",
   "metadata": {},
   "outputs": [
    {
     "data": {
      "text/plain": [
       "[array([1, 2]), array([3, 4]), array([5, 6])]"
      ]
     },
     "execution_count": 130,
     "metadata": {},
     "output_type": "execute_result"
    }
   ],
   "source": [
    "arr_new"
   ]
  },
  {
   "cell_type": "code",
   "execution_count": 131,
   "id": "23783297",
   "metadata": {},
   "outputs": [
    {
     "data": {
      "text/plain": [
       "2"
      ]
     },
     "execution_count": 131,
     "metadata": {},
     "output_type": "execute_result"
    }
   ],
   "source": [
    "arr_new[0][1]"
   ]
  },
  {
   "cell_type": "markdown",
   "id": "7fec4042",
   "metadata": {},
   "source": [
    "## Splitting 2-D Arrays"
   ]
  },
  {
   "cell_type": "code",
   "execution_count": 132,
   "id": "0f346392",
   "metadata": {},
   "outputs": [],
   "source": [
    "arr = np.array([[1, 2], [3, 4], [5, 6], [7, 8], [9, 10], [11, 12]])"
   ]
  },
  {
   "cell_type": "code",
   "execution_count": 133,
   "id": "ce518a73",
   "metadata": {},
   "outputs": [],
   "source": [
    "arr_new = np.array_split(arr,3)"
   ]
  },
  {
   "cell_type": "code",
   "execution_count": 134,
   "id": "09a43628",
   "metadata": {},
   "outputs": [
    {
     "data": {
      "text/plain": [
       "[array([[1, 2],\n",
       "        [3, 4]]),\n",
       " array([[5, 6],\n",
       "        [7, 8]]),\n",
       " array([[ 9, 10],\n",
       "        [11, 12]])]"
      ]
     },
     "execution_count": 134,
     "metadata": {},
     "output_type": "execute_result"
    }
   ],
   "source": [
    "arr_new"
   ]
  },
  {
   "cell_type": "markdown",
   "id": "d07ed5ac",
   "metadata": {},
   "source": [
    "# NumPy Searching Arrays"
   ]
  },
  {
   "cell_type": "code",
   "execution_count": 135,
   "id": "aaa9958f",
   "metadata": {},
   "outputs": [],
   "source": [
    "arr = np.array([1, 2, 3, 4, 5, 4, 4])"
   ]
  },
  {
   "cell_type": "code",
   "execution_count": 136,
   "id": "b476cea2",
   "metadata": {},
   "outputs": [],
   "source": [
    "x = np.where(arr == 4)"
   ]
  },
  {
   "cell_type": "code",
   "execution_count": 137,
   "id": "cee15000",
   "metadata": {},
   "outputs": [
    {
     "data": {
      "text/plain": [
       "(array([3, 5, 6]),)"
      ]
     },
     "execution_count": 137,
     "metadata": {},
     "output_type": "execute_result"
    }
   ],
   "source": [
    "x"
   ]
  },
  {
   "cell_type": "code",
   "execution_count": 138,
   "id": "9187896e",
   "metadata": {},
   "outputs": [],
   "source": [
    "# Find the indexes where the values are even:\n",
    "\n",
    "x = np.where(arr % 2 == 0)"
   ]
  },
  {
   "cell_type": "code",
   "execution_count": 139,
   "id": "dbe11153",
   "metadata": {},
   "outputs": [
    {
     "data": {
      "text/plain": [
       "(array([1, 3, 5, 6]),)"
      ]
     },
     "execution_count": 139,
     "metadata": {},
     "output_type": "execute_result"
    }
   ],
   "source": [
    "x"
   ]
  },
  {
   "cell_type": "markdown",
   "id": "fa7744dd",
   "metadata": {},
   "source": [
    "## Search Sorted\n",
    "\n",
    "#### The searchsorted() method is assumed to be used on sorted arrays."
   ]
  },
  {
   "cell_type": "code",
   "execution_count": 140,
   "id": "007c1196",
   "metadata": {},
   "outputs": [],
   "source": [
    "arr = np.array([6, 7, 8, 9])"
   ]
  },
  {
   "cell_type": "code",
   "execution_count": 141,
   "id": "2e2d06c0",
   "metadata": {},
   "outputs": [],
   "source": [
    "x = np.searchsorted(arr, 7)"
   ]
  },
  {
   "cell_type": "code",
   "execution_count": 142,
   "id": "6a3c7046",
   "metadata": {},
   "outputs": [
    {
     "data": {
      "text/plain": [
       "1"
      ]
     },
     "execution_count": 142,
     "metadata": {},
     "output_type": "execute_result"
    }
   ],
   "source": [
    "x"
   ]
  },
  {
   "cell_type": "markdown",
   "id": "cdf5fefe",
   "metadata": {},
   "source": [
    "# NumPy Sorting Arrays"
   ]
  },
  {
   "cell_type": "code",
   "execution_count": 143,
   "id": "8bfd2dfb",
   "metadata": {},
   "outputs": [],
   "source": [
    "arr = np.array([3, 2, 0, 1])"
   ]
  },
  {
   "cell_type": "code",
   "execution_count": 144,
   "id": "7ac8cdfe",
   "metadata": {},
   "outputs": [
    {
     "data": {
      "text/plain": [
       "array([0, 1, 2, 3])"
      ]
     },
     "execution_count": 144,
     "metadata": {},
     "output_type": "execute_result"
    }
   ],
   "source": [
    "np.sort(arr)"
   ]
  },
  {
   "cell_type": "markdown",
   "id": "4a7b9b7a",
   "metadata": {},
   "source": [
    "## Sorting a 2-D Array\n",
    "If you use the sort() method on a 2-D array, both arrays will be sorted:"
   ]
  },
  {
   "cell_type": "code",
   "execution_count": 145,
   "id": "fc50f76d",
   "metadata": {},
   "outputs": [],
   "source": [
    "arr = np.array([[3, 2, 4], [5, 0, 1]])"
   ]
  },
  {
   "cell_type": "code",
   "execution_count": 146,
   "id": "9050e6db",
   "metadata": {},
   "outputs": [
    {
     "data": {
      "text/plain": [
       "array([[2, 3, 4],\n",
       "       [0, 1, 5]])"
      ]
     },
     "execution_count": 146,
     "metadata": {},
     "output_type": "execute_result"
    }
   ],
   "source": [
    "np.sort(arr)"
   ]
  },
  {
   "cell_type": "markdown",
   "id": "762379a1",
   "metadata": {},
   "source": [
    "# NumPy Filter Array\n",
    "\n",
    "Getting some elements out of an existing array and creating a new array out of them is called filtering.\n",
    "\n",
    "In NumPy, you filter an array using a boolean index list.\n",
    "\n",
    "A boolean index list is a list of booleans corresponding to indexes in the array.\n",
    "\n",
    "If the value at an index is True that element is contained in the filtered array, if the value at that index is False that element is excluded from the filtered array."
   ]
  },
  {
   "cell_type": "code",
   "execution_count": 147,
   "id": "990ff1b8",
   "metadata": {},
   "outputs": [],
   "source": [
    "arr = np.array([41, 42, 43, 44])\n",
    "\n",
    "x = [True, False, True, False]"
   ]
  },
  {
   "cell_type": "code",
   "execution_count": 148,
   "id": "0841f2f8",
   "metadata": {},
   "outputs": [],
   "source": [
    "arr_new = arr[x]"
   ]
  },
  {
   "cell_type": "code",
   "execution_count": 149,
   "id": "dacc6a33",
   "metadata": {},
   "outputs": [
    {
     "data": {
      "text/plain": [
       "array([41, 43])"
      ]
     },
     "execution_count": 149,
     "metadata": {},
     "output_type": "execute_result"
    }
   ],
   "source": [
    "arr_new"
   ]
  },
  {
   "cell_type": "markdown",
   "id": "f6c3dcec",
   "metadata": {},
   "source": [
    "# Creating the Filter Array\n",
    "In the example above we hard-coded the True and False values, but the common use is to create a filter array based on conditions."
   ]
  },
  {
   "cell_type": "code",
   "execution_count": 150,
   "id": "bd2fd29b",
   "metadata": {},
   "outputs": [],
   "source": [
    "arr = np.array([41, 42, 43, 44])"
   ]
  },
  {
   "cell_type": "code",
   "execution_count": 151,
   "id": "1f5b4c64",
   "metadata": {},
   "outputs": [],
   "source": [
    "arr_filter = []\n",
    "\n",
    "for x in arr:\n",
    "    if x > 41:\n",
    "        arr_filter.append(True)\n",
    "    else:\n",
    "        arr_filter.append(False)"
   ]
  },
  {
   "cell_type": "code",
   "execution_count": 152,
   "id": "e6fdc22b",
   "metadata": {},
   "outputs": [
    {
     "data": {
      "text/plain": [
       "[False, True, True, True]"
      ]
     },
     "execution_count": 152,
     "metadata": {},
     "output_type": "execute_result"
    }
   ],
   "source": [
    "arr_filter"
   ]
  },
  {
   "cell_type": "code",
   "execution_count": null,
   "id": "876b44d0",
   "metadata": {},
   "outputs": [],
   "source": []
  },
  {
   "cell_type": "code",
   "execution_count": null,
   "id": "c4a4e573",
   "metadata": {},
   "outputs": [],
   "source": []
  },
  {
   "cell_type": "code",
   "execution_count": null,
   "id": "838fa85b",
   "metadata": {},
   "outputs": [],
   "source": []
  }
 ],
 "metadata": {
  "kernelspec": {
   "display_name": "Python 3 (ipykernel)",
   "language": "python",
   "name": "python3"
  },
  "language_info": {
   "codemirror_mode": {
    "name": "ipython",
    "version": 3
   },
   "file_extension": ".py",
   "mimetype": "text/x-python",
   "name": "python",
   "nbconvert_exporter": "python",
   "pygments_lexer": "ipython3",
   "version": "3.9.13"
  }
 },
 "nbformat": 4,
 "nbformat_minor": 5
}
